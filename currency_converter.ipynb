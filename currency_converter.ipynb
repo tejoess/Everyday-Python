{
 "cells": [
  {
   "cell_type": "code",
   "execution_count": 16,
   "id": "11c1b748",
   "metadata": {},
   "outputs": [],
   "source": [
    "from langchain_core.tools import tool\n",
    "import requests"
   ]
  },
  {
   "cell_type": "code",
   "execution_count": 17,
   "id": "0e5624a1",
   "metadata": {},
   "outputs": [],
   "source": [
    "@tool\n",
    "def get_conversion_factor(base_currency: str, target_currency: str) -> float:\n",
    "    \"\"\"\n",
    "    Get conversion factor between given base currency and target currency.\n",
    "    \"\"\"\n",
    "    url = f\"https://v6.exchangerate-api.com/v6/4bdcc1761895a135d80abbb0/latest/{base_currency}\"\n",
    "    response = requests.get(url)\n",
    "    data = response.json()\n",
    "\n",
    "    if data[\"result\"] == \"success\":\n",
    "        return data[\"conversion_rates\"][target_currency]\n",
    "    else:\n",
    "        raise ValueError(\"API returned an error: \" + data.get(\"error-type\", \"Unknown error\"))\n"
   ]
  },
  {
   "cell_type": "code",
   "execution_count": 18,
   "id": "c737c2cf",
   "metadata": {},
   "outputs": [
    {
     "name": "stdout",
     "output_type": "stream",
     "text": [
      "85.981\n"
     ]
    }
   ],
   "source": [
    "result=get_conversion_factor.invoke({'base_currency': 'USD', 'target_currency': 'INR'})\n",
    "print(result)"
   ]
  },
  {
   "cell_type": "code",
   "execution_count": 19,
   "id": "299dff79",
   "metadata": {},
   "outputs": [],
   "source": [
    "def convert_currency(amount: float, base_currency: str, target_currency: str) -> float:\n",
    "    factor = get_conversion_factor.invoke({'base_currency': base_currency, 'target_currency': target_currency})\n",
    "    return round(amount * factor,2)"
   ]
  },
  {
   "cell_type": "code",
   "execution_count": 26,
   "id": "a7702693",
   "metadata": {},
   "outputs": [
    {
     "name": "stdout",
     "output_type": "stream",
     "text": [
      "The converted amount is 99.43\n"
     ]
    }
   ],
   "source": [
    "base_currency = input(\"Enter the base currency(INR,USD,EUR):\")\n",
    "target_currency = input(\"Enter the target currency(INR,EUR,USD):\")\n",
    "amount = int(input(\"Enter the amount:\"))\n",
    "converted_amount = convert_currency(amount,base_currency,target_currency)\n",
    "print(f\"The converted amount is {converted_amount}\")"
   ]
  }
 ],
 "metadata": {
  "kernelspec": {
   "display_name": "venv",
   "language": "python",
   "name": "python3"
  },
  "language_info": {
   "codemirror_mode": {
    "name": "ipython",
    "version": 3
   },
   "file_extension": ".py",
   "mimetype": "text/x-python",
   "name": "python",
   "nbconvert_exporter": "python",
   "pygments_lexer": "ipython3",
   "version": "3.12.4"
  }
 },
 "nbformat": 4,
 "nbformat_minor": 5
}
